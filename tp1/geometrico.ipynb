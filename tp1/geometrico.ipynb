{
 "cells": [
  {
   "cell_type": "code",
   "execution_count": null,
   "metadata": {},
   "outputs": [],
   "source": [
    "from random import randint\n",
    "import math\n",
    "import holoviews as hv\n",
    "hv.extension('bokeh')\n",
    "from bokeh.io import show, curdoc\n",
    "from bokeh.layouts import layout\n",
    "from bokeh.models import Slider, Button"
   ]
  },
  {
   "cell_type": "markdown",
   "metadata": {},
   "source": [
    "### Funções Geométricas"
   ]
  },
  {
   "cell_type": "code",
   "execution_count": null,
   "metadata": {},
   "outputs": [],
   "source": [
    "def create_points(n, min=0, max=50):\n",
    "    points = []\n",
    "    for _ in range(n):\n",
    "        points.append((randint(min,max), randint(min,max)))\n",
    "    return points\n",
    "\n",
    "def distance(p1, p2):\n",
    "    return math.sqrt((p1[0] - p2[0])**2 + (p1[1] - p2[1])**2)\n",
    "\n",
    "def slope(p1, p2):\n",
    "    y = (p1[1] - p2[1])\n",
    "    x = (p1[0] - p2[0])\n",
    "    return math.atan2(y, x) \n",
    "    \n",
    "def cross_product(p1, p2, p3):\n",
    "    return ((p2[0] - p1[0]) * (p3[1] - p1[1])) - ((p2[1] - p1[1]) * (p3[0] - p1[0]))"
   ]
  },
  {
   "cell_type": "markdown",
   "metadata": {},
   "source": [
    "### Funções de Animação"
   ]
  },
  {
   "cell_type": "code",
   "execution_count": null,
   "metadata": {},
   "outputs": [],
   "source": [
    "renderer = hv.renderer('bokeh').instance(mode='server')\n",
    "scatter = None\n",
    "steps = None\n",
    "end = None\n",
    "dmap = None\n",
    "stream = None\n",
    "\n",
    "def ch(it):\n",
    "    global steps\n",
    "    global scatter\n",
    "    return scatter * steps.get(it)\n",
    "\n",
    "def modify_doc(doc):\n",
    "    global dmap\n",
    "    hvplot = renderer.get_plot(dmap, doc)\n",
    "\n",
    "    def animate_update():\n",
    "        it = slider.value + 1\n",
    "        if it > end:\n",
    "            it = start\n",
    "        slider.value = it\n",
    "\n",
    "    def slider_update(attrname, old, new):\n",
    "        global stream\n",
    "        stream.event(it=new)\n",
    "    \n",
    "    global end\n",
    "    start = 0\n",
    "    slider = Slider(start=start, end=end, value=start, step=1, title=\"Iteration\")\n",
    "    slider.on_change('value', slider_update)\n",
    "    \n",
    "    callback_id = None\n",
    "\n",
    "    def animate():\n",
    "        global callback_id\n",
    "        if button.label == '► Play':\n",
    "            button.label = '❚❚ Pause'\n",
    "            callback_id = doc.add_periodic_callback(animate_update, 500)\n",
    "        else:\n",
    "            button.label = '► Play'\n",
    "            doc.remove_periodic_callback(callback_id)\n",
    "    button = Button(label='► Play', width=60)\n",
    "    button.on_click(animate)\n",
    "    \n",
    "    plot = layout([\n",
    "    [hvplot.state],\n",
    "    [slider, button]], sizing_mode='fixed')\n",
    "    \n",
    "    doc.add_root(plot)\n",
    "    return doc"
   ]
  },
  {
   "cell_type": "code",
   "execution_count": null,
   "metadata": {},
   "outputs": [],
   "source": [
    "points = create_points(20)"
   ]
  },
  {
   "cell_type": "markdown",
   "metadata": {},
   "source": [
    "### Varredura de Graham"
   ]
  },
  {
   "cell_type": "code",
   "execution_count": null,
   "metadata": {},
   "outputs": [],
   "source": [
    "def graham_scan(points_):\n",
    "    points = points_.copy()\n",
    "    anchor = min(points, key=lambda p: (p[1], p[0]))\n",
    "    points.pop(points.index(anchor))\n",
    "    points.sort(key=lambda p: (slope(p, anchor), distance(anchor, p)))\n",
    "    \n",
    "    it = 0\n",
    "    steps = {}\n",
    "    hull = [anchor]\n",
    "    steps[it] = hv.Path(hull) * hv.Path(hull)\n",
    "    it += 1\n",
    "    \n",
    "    for p in points:\n",
    "        steps[it] = hv.Path(hull) * hv.Path([hull[-1], p])\n",
    "        it += 1\n",
    "        hull.append(p)\n",
    "        while len(hull) > 2 and cross_product(hull[-3], hull[-2], hull[-1]) < 0:\n",
    "            hull.pop(-2)\n",
    "            steps[it] = hv.Path(hull) * hv.Path([hull[-1], p])\n",
    "            it += 1\n",
    "            \n",
    "    steps[it] = hv.Path(hull) * hv.Path([hull[-1], p])\n",
    "    it += 1\n",
    "    steps[it] = hv.Path(hull) * hv.Path([hull[-1], anchor])\n",
    "    it += 1\n",
    "    hull.append(hull[0])\n",
    "    steps[it] = hv.Path(hull) * hv.Path(hull)\n",
    "    \n",
    "    return hull, steps"
   ]
  },
  {
   "cell_type": "code",
   "execution_count": null,
   "metadata": {},
   "outputs": [],
   "source": [
    "def graham_plot(points):\n",
    "    global scatter\n",
    "    global steps\n",
    "    global end\n",
    "    global dmap\n",
    "    global stream\n",
    "\n",
    "    scatter = hv.Scatter(points)\n",
    "    hull, steps = graham_scan(points)\n",
    "    end = len(steps) - 1\n",
    "    stream = hv.streams.Stream.define('Iteration', it=0)()\n",
    "    dmap = hv.DynamicMap(ch, streams=[stream])\n",
    "\n",
    "    show(modify_doc, notebook_url='localhost:8888')\n",
    "    return scatter * hv.HoloMap(steps, kdims=['Iteration'])\n",
    "\n",
    "graham_plot(points)"
   ]
  },
  {
   "cell_type": "markdown",
   "metadata": {},
   "source": [
    "### Embrulho pra presente"
   ]
  },
  {
   "cell_type": "code",
   "execution_count": null,
   "metadata": {},
   "outputs": [],
   "source": [
    "def gift_wrapping(points):\n",
    "    anchor = min(points, key=lambda p: p[0])\n",
    "    start = points.index(anchor)\n",
    "    p = start\n",
    "    hull = []\n",
    "    it = 0\n",
    "    steps = {}\n",
    "    \n",
    "    while 1:\n",
    "        hull.append(points[p])\n",
    "        steps[it] = hv.Path(hull) * hv.Path([hull[-1], points[p]])\n",
    "        it += 1\n",
    "        q = (p + 1) % len(points)\n",
    "        for i in range(len(points)):\n",
    "            steps[it] = hv.Path(hull) * hv.Path([hull[-1], points[i]])\n",
    "            it += 1\n",
    "            if cross_product(points[p], points[i], points[q]) < 0:\n",
    "                q = i\n",
    "        steps[it] = hv.Path(hull) * hv.Path([hull[-1], points[q]])\n",
    "        it += 1\n",
    "        p = q\n",
    "        if p == start:\n",
    "            break\n",
    "    \n",
    "    steps[it] = hv.Path(hull) * hv.Path([hull[-1], points[p]])\n",
    "    it += 1\n",
    "    steps[it] = hv.Path(hull) * hv.Path([hull[-1], anchor])\n",
    "    it += 1\n",
    "    hull.append(hull[0])\n",
    "    steps[it] = hv.Path(hull) * hv.Path(hull)\n",
    "    \n",
    "    return hull, steps  "
   ]
  },
  {
   "cell_type": "code",
   "execution_count": null,
   "metadata": {},
   "outputs": [],
   "source": [
    "def gift_plot(points):\n",
    "    global scatter\n",
    "    global steps\n",
    "    global end\n",
    "    global dmap\n",
    "    global stream\n",
    "\n",
    "    scatter = hv.Scatter(points)\n",
    "    hull, steps = gift_wrapping(points)\n",
    "    end = len(steps) - 1\n",
    "    stream = hv.streams.Stream.define('Iteration', it=0)()\n",
    "    dmap = hv.DynamicMap(ch, streams=[stream])\n",
    "\n",
    "    show(modify_doc, notebook_url='localhost:8888')\n",
    "    return scatter * hv.HoloMap(steps, kdims=['Iteration'])\n",
    "\n",
    "gift_plot(points)"
   ]
  },
  {
   "cell_type": "markdown",
   "metadata": {},
   "source": [
    "### Incremental"
   ]
  },
  {
   "cell_type": "code",
   "execution_count": null,
   "metadata": {},
   "outputs": [],
   "source": [
    "# NOT WORKING\n",
    "\n",
    "def incremental_v2(points_):\n",
    "    points = points_.copy()\n",
    "    points.sort(key=lambda p: p[0])\n",
    "    hull = []\n",
    "    for i in range(3):\n",
    "        hull.append(points.pop(i))\n",
    "    anchor = hull[-1]    \n",
    "    hull.sort(key=lambda p: slope(p, anchor))\n",
    "    \n",
    "    for p in range(len(points)):\n",
    "        n = len(hull)\n",
    "        j = 0\n",
    "        for i in range(n):\n",
    "            if hull[i][0] > hull[j][0]:\n",
    "                j = i\n",
    "        \n",
    "        u = j\n",
    "        while cross_product(points[p], hull[u], hull[(u+1)%n]) >= 0:\n",
    "            u = (u+1)%n\n",
    "            \n",
    "        l = j\n",
    "        while cross_product(points[p], hull[l], hull[(n+l-1)%n]) <= 0:\n",
    "            l = (n+l-1)%n\n",
    "         \n",
    "        new_hull = []\n",
    "        visit = u\n",
    "        while visit != l:\n",
    "            visit = (visit+1)%n\n",
    "            new_hull.append(hull[visit])\n",
    "        \n",
    "        new_hull.append(points[p])\n",
    "        hull.clear()\n",
    "        for i in range(len(new_hull)):\n",
    "            hull.append(new_hull[i])\n",
    "    \n",
    "    return hull\n",
    "    "
   ]
  }
 ],
 "metadata": {
  "kernelspec": {
   "display_name": "Python 3",
   "language": "python",
   "name": "python3"
  },
  "language_info": {
   "codemirror_mode": {
    "name": "ipython",
    "version": 3
   },
   "file_extension": ".py",
   "mimetype": "text/x-python",
   "name": "python",
   "nbconvert_exporter": "python",
   "pygments_lexer": "ipython3",
   "version": "3.7.3"
  }
 },
 "nbformat": 4,
 "nbformat_minor": 2
}
